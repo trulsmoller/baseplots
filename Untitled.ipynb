{
 "cells": [
  {
   "cell_type": "code",
   "execution_count": 2,
   "metadata": {},
   "outputs": [],
   "source": [
    "from baseplots import Plot1d, Plot2d\n",
    "import pandas as pd"
   ]
  },
  {
   "cell_type": "code",
   "execution_count": 3,
   "metadata": {},
   "outputs": [],
   "source": [
    "df = pd.read_csv('test_data.csv')"
   ]
  },
  {
   "cell_type": "code",
   "execution_count": 5,
   "metadata": {},
   "outputs": [
    {
     "data": {
      "text/html": [
       "<div>\n",
       "<style scoped>\n",
       "    .dataframe tbody tr th:only-of-type {\n",
       "        vertical-align: middle;\n",
       "    }\n",
       "\n",
       "    .dataframe tbody tr th {\n",
       "        vertical-align: top;\n",
       "    }\n",
       "\n",
       "    .dataframe thead th {\n",
       "        text-align: right;\n",
       "    }\n",
       "</style>\n",
       "<table border=\"1\" class=\"dataframe\">\n",
       "  <thead>\n",
       "    <tr style=\"text-align: right;\">\n",
       "      <th></th>\n",
       "      <th>datotid</th>\n",
       "      <th>varenummer</th>\n",
       "      <th>varenavn</th>\n",
       "      <th>volum</th>\n",
       "      <th>pris</th>\n",
       "      <th>literpris</th>\n",
       "      <th>varetype</th>\n",
       "      <th>produktutvalg</th>\n",
       "      <th>fylde</th>\n",
       "      <th>friskhet</th>\n",
       "      <th>...</th>\n",
       "      <th>grossist</th>\n",
       "      <th>distributor</th>\n",
       "      <th>emballasjetype</th>\n",
       "      <th>korktype</th>\n",
       "      <th>okologisk</th>\n",
       "      <th>biodynamisk</th>\n",
       "      <th>fairtrade</th>\n",
       "      <th>miljosmart_emballasje</th>\n",
       "      <th>gluten_lav_pa</th>\n",
       "      <th>kosher</th>\n",
       "    </tr>\n",
       "  </thead>\n",
       "  <tbody>\n",
       "    <tr>\n",
       "      <th>5038</th>\n",
       "      <td>2020-03-05T07:08:57</td>\n",
       "      <td>3724401</td>\n",
       "      <td>Sour Fisk Sour Strawberry</td>\n",
       "      <td>0.7</td>\n",
       "      <td>199.5</td>\n",
       "      <td>285.0</td>\n",
       "      <td>Likør</td>\n",
       "      <td>Basisutvalget</td>\n",
       "      <td>0</td>\n",
       "      <td>0</td>\n",
       "      <td>...</td>\n",
       "      <td>Interbrands Spirits Norway AS</td>\n",
       "      <td>Cuveco AS</td>\n",
       "      <td>Glass</td>\n",
       "      <td>Skrukapsel</td>\n",
       "      <td>False</td>\n",
       "      <td>False</td>\n",
       "      <td>False</td>\n",
       "      <td>False</td>\n",
       "      <td>False</td>\n",
       "      <td>False</td>\n",
       "    </tr>\n",
       "  </tbody>\n",
       "</table>\n",
       "<p>1 rows × 34 columns</p>\n",
       "</div>"
      ],
      "text/plain": [
       "                  datotid  varenummer                   varenavn  volum  \\\n",
       "5038  2020-03-05T07:08:57     3724401  Sour Fisk Sour Strawberry    0.7   \n",
       "\n",
       "       pris  literpris varetype  produktutvalg  fylde  friskhet  ...  \\\n",
       "5038  199.5      285.0    Likør  Basisutvalget      0         0  ...   \n",
       "\n",
       "                           grossist  distributor  emballasjetype    korktype  \\\n",
       "5038  Interbrands Spirits Norway AS    Cuveco AS           Glass  Skrukapsel   \n",
       "\n",
       "     okologisk biodynamisk fairtrade miljosmart_emballasje gluten_lav_pa  \\\n",
       "5038     False       False     False                 False         False   \n",
       "\n",
       "      kosher  \n",
       "5038   False  \n",
       "\n",
       "[1 rows x 34 columns]"
      ]
     },
     "execution_count": 5,
     "metadata": {},
     "output_type": "execute_result"
    }
   ],
   "source": [
    "df.sample()"
   ]
  },
  {
   "cell_type": "code",
   "execution_count": 6,
   "metadata": {},
   "outputs": [],
   "source": [
    "x = Plot1d(df, 'pris')"
   ]
  },
  {
   "cell_type": "code",
   "execution_count": 7,
   "metadata": {},
   "outputs": [
    {
     "data": {
      "image/png": "[encoded data removed]",
      "text/plain": [
       "<Figure size 841.68x595.44 with 1 Axes>"
      ]
     },
     "metadata": {
      "needs_background": "light"
     },
     "output_type": "display_data"
    }
   ],
   "source": [
    "x.histplot()"
   ]
  }
 ],
 "metadata": {
  "kernelspec": {
   "display_name": "Python 3",
   "language": "python",
   "name": "python3"
  },
  "language_info": {
   "codemirror_mode": {
    "name": "ipython",
    "version": 3
   },
   "file_extension": ".py",
   "mimetype": "text/x-python",
   "name": "python",
   "nbconvert_exporter": "python",
   "pygments_lexer": "ipython3",
   "version": "3.7.3"
  }
 },
 "nbformat": 4,
 "nbformat_minor": 2
}
